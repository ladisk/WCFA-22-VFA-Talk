{
 "cells": [
  {
   "cell_type": "code",
   "execution_count": 1,
   "id": "4f971a33",
   "metadata": {},
   "outputs": [],
   "source": [
    "import os\n",
    "from bs4 import BeautifulSoup"
   ]
  },
  {
   "cell_type": "code",
   "execution_count": 2,
   "id": "cfa1631a",
   "metadata": {},
   "outputs": [],
   "source": [
    "path = '../Signal processing.slides.html'\n",
    "root, filename = os.path.split(path)\n",
    "\n",
    "with open(path, 'r', encoding='utf8') as f:\n",
    "    html = f.read()\n",
    "soup = BeautifulSoup(html)\n",
    "\n",
    "tags = soup.find_all('div', attrs={'class': 'highlight hl-ipython3'})\n",
    "\n",
    "html1 = str(soup.html)\n",
    "for tag in tags:\n",
    "    html1 = html1.replace(str(tag.parent.parent.parent), '')\n",
    "\n",
    "with open(os.path.join(root, 'codeless_'+filename), 'w', encoding='utf8') as f:\n",
    "    f.write(html1)"
   ]
  },
  {
   "cell_type": "code",
   "execution_count": null,
   "id": "53a36c28",
   "metadata": {},
   "outputs": [],
   "source": []
  }
 ],
 "metadata": {
  "kernelspec": {
   "display_name": "Python 3 (ipykernel)",
   "language": "python",
   "name": "python3"
  },
  "language_info": {
   "codemirror_mode": {
    "name": "ipython",
    "version": 3
   },
   "file_extension": ".py",
   "mimetype": "text/x-python",
   "name": "python",
   "nbconvert_exporter": "python",
   "pygments_lexer": "ipython3",
   "version": "3.10.6"
  },
  "toc": {
   "base_numbering": 1,
   "nav_menu": {},
   "number_sections": true,
   "sideBar": true,
   "skip_h1_title": false,
   "title_cell": "Table of Contents",
   "title_sidebar": "Contents",
   "toc_cell": false,
   "toc_position": {},
   "toc_section_display": true,
   "toc_window_display": false
  }
 },
 "nbformat": 4,
 "nbformat_minor": 5
}
